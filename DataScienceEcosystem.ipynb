{
 "cells": [
  {
   "cell_type": "markdown",
   "id": "a51cab84-1b2e-4596-9745-fb512525b515",
   "metadata": {},
   "source": [
    "# Data Science Tools and Ecosystem"
   ]
  },
  {
   "cell_type": "markdown",
   "id": "605a668e-051c-4db8-894f-3c300c720f0a",
   "metadata": {},
   "source": [
    "In this notebook, Data Science Tools and Ecosystem are summarized."
   ]
  },
  {
   "cell_type": "markdown",
   "id": "96bac357-1cd2-418d-b3d1-67bbeac47f01",
   "metadata": {},
   "source": [
    "Some important languages for Data science are\n",
    "1. Python\n",
    "2. R\n",
    "3. SQL"
   ]
  },
  {
   "cell_type": "markdown",
   "id": "5c201ee8-9212-4160-853e-c326090d9e85",
   "metadata": {},
   "source": [
    "Some common libraries for Data science are:\n",
    "1. Pandas\n",
    "2. NumPy\n",
    "3. Tensorflow\n",
    "4. matplotlib\n",
    "5. PyTorch"
   ]
  },
  {
   "cell_type": "markdown",
   "id": "cf29ec8c-f054-4567-be6f-18a606e88fee",
   "metadata": {},
   "source": [
    "Table of Data Science tools with example:\n",
    "|Open source tools| Commercial tools| Cloud based tools|\n",
    "|--|--|--|\n",
    "|mongoDB| Watson Studio| couchDB|"
   ]
  },
  {
   "cell_type": "markdown",
   "id": "b452728d-4aa4-40e4-bbcf-960a180c98b9",
   "metadata": {},
   "source": [
    "### Below are a few examples of evaluating arithmetic expressions in Python"
   ]
  },
  {
   "cell_type": "code",
   "execution_count": 2,
   "id": "0568ca4a-fede-4b2a-bd7a-b1aa672c88ba",
   "metadata": {},
   "outputs": [
    {
     "data": {
      "text/plain": [
       "17"
      ]
     },
     "execution_count": 2,
     "metadata": {},
     "output_type": "execute_result"
    }
   ],
   "source": [
    "# This a simple arithmetic expression to mutiply then add integers\n",
    "(3*4)+5"
   ]
  },
  {
   "cell_type": "code",
   "execution_count": 3,
   "id": "5dffc4db-7b47-481e-98f0-742b1f2afd05",
   "metadata": {},
   "outputs": [
    {
     "name": "stdout",
     "output_type": "stream",
     "text": [
      "200 minutes is equal to 3.3333333333333335 hours.\n"
     ]
    }
   ],
   "source": [
    "min = 200\n",
    "\n",
    "hour = min/60 #This will convert 200 minutes to hours by diving by 60.\n",
    "\n",
    "print(min, \"minutes is equal to\", hour, \"hours.\")"
   ]
  },
  {
   "cell_type": "markdown",
   "id": "b291e4cd-4cee-4e4f-ada1-368fc20d6eb4",
   "metadata": {},
   "source": [
    "**Objectives**\n",
    "* Create markdown cell with title of the notebook\n",
    "* Create a markdown cell to list data science languages\n",
    "* Create a code cell to convert minutes to hours\n",
    "* Create a markdown cell to indicate the Author's name"
   ]
  },
  {
   "cell_type": "markdown",
   "id": "2c75d4ff-9cc5-4df5-ba89-a72cce1aa044",
   "metadata": {},
   "source": [
    "## Author <br>\n",
    "Tushar Mane"
   ]
  }
 ],
 "metadata": {
  "kernelspec": {
   "display_name": "Python",
   "language": "python",
   "name": "conda-env-python-py"
  },
  "language_info": {
   "codemirror_mode": {
    "name": "ipython",
    "version": 3
   },
   "file_extension": ".py",
   "mimetype": "text/x-python",
   "name": "python",
   "nbconvert_exporter": "python",
   "pygments_lexer": "ipython3",
   "version": "3.7.12"
  }
 },
 "nbformat": 4,
 "nbformat_minor": 5
}

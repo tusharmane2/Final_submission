{
 "cells": [
  {
   "cell_type": "markdown",
   "id": "f74ec1bc-784e-4f9a-bff9-57bb7b5a4de2",
   "metadata": {},
   "source": [
    "# My Jupyter Notebook on IBM Watson Studio"
   ]
  },
  {
   "cell_type": "markdown",
   "id": "5f8761df-6c23-4592-b21b-e51d9ce2333c",
   "metadata": {},
   "source": [
    "**Tushar Mane**<br>*I want to be a data scientist*"
   ]
  },
  {
   "cell_type": "markdown",
   "id": "bab51704-0023-49bb-b73d-3bd77b32393e",
   "metadata": {},
   "source": [
    "*I want to be a data scientist because I want to improve learning process of students*"
   ]
  },
  {
   "cell_type": "markdown",
   "id": "1b7cbad1-7e40-4ac8-9cb3-7f9993568c79",
   "metadata": {},
   "source": [
    "### The below code will print my name"
   ]
  },
  {
   "cell_type": "code",
   "execution_count": 2,
   "id": "b837920f-3936-40da-a167-0fe6f94c65fc",
   "metadata": {},
   "outputs": [
    {
     "name": "stdout",
     "output_type": "stream",
     "text": [
      "Tushar Mane\n"
     ]
    }
   ],
   "source": [
    "my_name = \"Tushar Mane\"\n",
    "print(my_name)"
   ]
  },
  {
   "cell_type": "markdown",
   "id": "34e9e2c1-0809-488b-9242-6182d5cb6b00",
   "metadata": {},
   "source": [
    "This line contains<br>\n",
    "1. numbered list\n",
    "2. [Link to Wikipedia](https://en.wikipedia.org/wiki/Main_Page)\n",
    "3. Table with 2 columns and 2 rows\n",
    "| Column 1| Column 2|\n",
    "|---------|---------|\n",
    "|row 2| row 2|"
   ]
  },
  {
   "cell_type": "code",
   "execution_count": null,
   "id": "a691a143-d384-4d26-acfe-1013dd55f5d9",
   "metadata": {},
   "outputs": [],
   "source": []
  }
 ],
 "metadata": {
  "kernelspec": {
   "display_name": "Python",
   "language": "python",
   "name": "conda-env-python-py"
  },
  "language_info": {
   "codemirror_mode": {
    "name": "ipython",
    "version": 3
   },
   "file_extension": ".py",
   "mimetype": "text/x-python",
   "name": "python",
   "nbconvert_exporter": "python",
   "pygments_lexer": "ipython3",
   "version": "3.7.12"
  }
 },
 "nbformat": 4,
 "nbformat_minor": 5
}

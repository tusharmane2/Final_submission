{
 "cells": [
  {
   "cell_type": "markdown",
   "id": "f21a195b-399a-450c-9921-1f265f8c9a48",
   "metadata": {},
   "source": [
    "# Final Submission for Tools for Data Science"
   ]
  },
  {
   "cell_type": "markdown",
   "id": "ad52b194-b140-4de7-8d5d-05f4a1a68122",
   "metadata": {},
   "source": [
    "My name is **Tushar Mane** and this file is my peer graded assignment."
   ]
  },
  {
   "cell_type": "markdown",
   "id": "55ac5618-28eb-434f-b7b8-f07b95c015ad",
   "metadata": {},
   "source": [
    "Important languages for Data science are\n",
    "1. Python\n",
    "2. R\n",
    "3. SQL"
   ]
  },
  {
   "cell_type": "markdown",
   "id": "0effc7d0-7b17-48a6-a289-db346c54a073",
   "metadata": {},
   "source": [
    "Some libraries for Data science are:\n",
    "1. Pandas\n",
    "2. NumPy\n",
    "3. Tensorflow\n",
    "4. matplotlib\n",
    "5. PyTorch"
   ]
  },
  {
   "cell_type": "markdown",
   "id": "8dbc22c0-3986-4946-9d13-93c1b465cbe5",
   "metadata": {},
   "source": [
    "Table of Data Science tools with example:\n",
    "|Open source tools| Commercial tools| Cloud based tools|\n",
    "|--|--|--|\n",
    "|mongoDB| Watson Studio| couchDB|"
   ]
  },
  {
   "cell_type": "markdown",
   "id": "34cf581b-0d59-4337-8584-3b37e570e876",
   "metadata": {},
   "source": [
    "Following code will evaluate (5+3)*6"
   ]
  },
  {
   "cell_type": "code",
   "execution_count": 1,
   "id": "41664957-f6fc-4237-8b9c-3ecbf9d8091b",
   "metadata": {},
   "outputs": [
    {
     "data": {
      "text/plain": [
       "48"
      ]
     },
     "execution_count": 1,
     "metadata": {},
     "output_type": "execute_result"
    }
   ],
   "source": [
    "(5+3)*6"
   ]
  },
  {
   "cell_type": "code",
   "execution_count": 3,
   "id": "304d6ec2-6334-4ba9-a6af-ff07542aff95",
   "metadata": {},
   "outputs": [
    {
     "name": "stdout",
     "output_type": "stream",
     "text": [
      "150 minutes is equal to 2.5 hours.\n"
     ]
    }
   ],
   "source": [
    "min = 150\n",
    "hour = min/60\n",
    "print(min, \"minutes is equal to\", hour, \"hours.\")"
   ]
  },
  {
   "cell_type": "markdown",
   "id": "9b3b0d99-4fa9-4065-8f3b-172ddb3827a8",
   "metadata": {},
   "source": [
    "Objectives of this exercise are\n",
    "1. Understand how to use Jupyter Notebook.\n",
    "2. Differntiate markdown and code cells.\n",
    "3. Learn how to use github."
   ]
  },
  {
   "cell_type": "markdown",
   "id": "da49dabb-2135-49d4-a2e2-21cc35e6e77a",
   "metadata": {},
   "source": [
    "Name of the the author<br>\n",
    "**Tu"
   ]
  }
 ],
 "metadata": {
  "kernelspec": {
   "display_name": "Python",
   "language": "python",
   "name": "conda-env-python-py"
  },
  "language_info": {
   "codemirror_mode": {
    "name": "ipython",
    "version": 3
   },
   "file_extension": ".py",
   "mimetype": "text/x-python",
   "name": "python",
   "nbconvert_exporter": "python",
   "pygments_lexer": "ipython3",
   "version": "3.7.12"
  }
 },
 "nbformat": 4,
 "nbformat_minor": 5
}
